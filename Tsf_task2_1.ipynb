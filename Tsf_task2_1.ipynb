{
  "nbformat": 4,
  "nbformat_minor": 0,
  "metadata": {
    "colab": {
      "name": "Tsf_task2_1.ipynb",
      "provenance": [],
      "collapsed_sections": []
    },
    "kernelspec": {
      "name": "python3",
      "display_name": "Python 3"
    },
    "language_info": {
      "name": "python"
    }
  },
  "cells": [
    {
      "cell_type": "markdown",
      "metadata": {
        "id": "_CCjgUisPuoS"
      },
      "source": [
        "# #1 Prediction using Supervised ML\n",
        "Dataset consists of two variables - Hours and Scores\n",
        "\n",
        "Task is to find out the score of students based on the number of hours they studied "
      ]
    },
    {
      "cell_type": "markdown",
      "metadata": {
        "id": "doMY6i6mMyB5"
      },
      "source": [
        "## Import required libraries"
      ]
    },
    {
      "cell_type": "code",
      "metadata": {
        "id": "qIwiBnfeyA1n"
      },
      "source": [
        "import pandas as pd\n",
        "import matplotlib.pyplot as plt\n",
        "from sklearn.model_selection import train_test_split\n",
        "from sklearn.linear_model import LinearRegression"
      ],
      "execution_count": null,
      "outputs": []
    },
    {
      "cell_type": "markdown",
      "metadata": {
        "id": "ocyQD61VM4iG"
      },
      "source": [
        "## Load Data"
      ]
    },
    {
      "cell_type": "code",
      "metadata": {
        "colab": {
          "base_uri": "https://localhost:8080/"
        },
        "id": "PbT4AlE-yR_3",
        "outputId": "38b32fdf-8591-4689-d723-4980e38941eb"
      },
      "source": [
        "url = \"http://bit.ly/w-data\"\n",
        "data = pd.read_csv(url)\n",
        "print(data)"
      ],
      "execution_count": null,
      "outputs": [
        {
          "output_type": "stream",
          "text": [
            "    Hours  Scores\n",
            "0     2.5      21\n",
            "1     5.1      47\n",
            "2     3.2      27\n",
            "3     8.5      75\n",
            "4     3.5      30\n",
            "5     1.5      20\n",
            "6     9.2      88\n",
            "7     5.5      60\n",
            "8     8.3      81\n",
            "9     2.7      25\n",
            "10    7.7      85\n",
            "11    5.9      62\n",
            "12    4.5      41\n",
            "13    3.3      42\n",
            "14    1.1      17\n",
            "15    8.9      95\n",
            "16    2.5      30\n",
            "17    1.9      24\n",
            "18    6.1      67\n",
            "19    7.4      69\n",
            "20    2.7      30\n",
            "21    4.8      54\n",
            "22    3.8      35\n",
            "23    6.9      76\n",
            "24    7.8      86\n"
          ],
          "name": "stdout"
        }
      ]
    },
    {
      "cell_type": "markdown",
      "metadata": {
        "id": "AlHT8xKRM7JH"
      },
      "source": [
        "## Plot the data"
      ]
    },
    {
      "cell_type": "code",
      "metadata": {
        "colab": {
          "base_uri": "https://localhost:8080/",
          "height": 297
        },
        "id": "h9kL3dDgyuaw",
        "outputId": "8990730d-49b3-4543-be4a-6064d0f352b5"
      },
      "source": [
        "plt.scatter(data[\"Hours\"],data[\"Scores\"])\n",
        "plt.xlabel(\"Number of Hours\")\n",
        "plt.ylabel(\"Scores of the students \")"
      ],
      "execution_count": null,
      "outputs": [
        {
          "output_type": "execute_result",
          "data": {
            "text/plain": [
              "Text(0, 0.5, 'Scores of the students ')"
            ]
          },
          "metadata": {
            "tags": []
          },
          "execution_count": 3
        },
        {
          "output_type": "display_data",
          "data": {
            "image/png": "[encoded data removed]",
            "text/plain": [
              "<Figure size 432x288 with 1 Axes>"
            ]
          },
          "metadata": {
            "tags": [],
            "needs_background": "light"
          }
        }
      ]
    },
    {
      "cell_type": "markdown",
      "metadata": {
        "id": "0FWH0XznM9gc"
      },
      "source": [
        "## Extract Training and testing data"
      ]
    },
    {
      "cell_type": "code",
      "metadata": {
        "id": "ks-JdDdazXQH"
      },
      "source": [
        "x= data.iloc[:,:-1].values\n",
        "y=data.iloc[:,1].values\n",
        "X_train, X_test, y_train, y_test = train_test_split(x,y,random_state=50)"
      ],
      "execution_count": null,
      "outputs": []
    },
    {
      "cell_type": "markdown",
      "metadata": {
        "id": "n_-W6k0tNjIx"
      },
      "source": [
        "## Apply linear regression function to training data"
      ]
    },
    {
      "cell_type": "code",
      "metadata": {
        "colab": {
          "base_uri": "https://localhost:8080/"
        },
        "id": "fEHAb4QvJjGG",
        "outputId": "af2a4067-8dea-4601-cd99-32ce6e4bea4e"
      },
      "source": [
        "linreg = LinearRegression()\n",
        "linreg.fit(X_train,y_train)\n",
        "print(\"Accuracy of the model:\",linreg.score(X_test,y_test))\n"
      ],
      "execution_count": null,
      "outputs": [
        {
          "output_type": "stream",
          "text": [
            "Accuracy of the model: 0.9722683933217482\n"
          ],
          "name": "stdout"
        }
      ]
    },
    {
      "cell_type": "markdown",
      "metadata": {
        "id": "ealNtjDNNvCp"
      },
      "source": [
        "## Get Slope and intercept of the line"
      ]
    },
    {
      "cell_type": "code",
      "metadata": {
        "colab": {
          "base_uri": "https://localhost:8080/"
        },
        "id": "bUijYr_eCXDQ",
        "outputId": "d1ecd72c-c80e-421b-b883-12215981c243"
      },
      "source": [
        "coef = linreg.coef_[0]\n",
        "intercept = linreg.intercept_\n",
        "print(\"Slope of the line:\",coef)\n",
        "print(\"Intercept of the line :\",intercept)"
      ],
      "execution_count": null,
      "outputs": [
        {
          "output_type": "stream",
          "text": [
            "Slope of the line: 9.621605579462827\n",
            "Intercept of the line : 3.0397190483256793\n"
          ],
          "name": "stdout"
        }
      ]
    },
    {
      "cell_type": "markdown",
      "metadata": {
        "id": "sUYNpOY4N59B"
      },
      "source": [
        "## Compare Predicted values and Actual values of testing data"
      ]
    },
    {
      "cell_type": "code",
      "metadata": {
        "colab": {
          "base_uri": "https://localhost:8080/"
        },
        "id": "lDHRlxd5DYAu",
        "outputId": "a7bb94ee-f2f6-4d95-a5d9-94709a21e028"
      },
      "source": [
        "y_pred= linreg.predict(X_test)\n",
        "df = pd.DataFrame({\"predicted\":y_pred,\"Actual\":y_test})\n",
        "print(df)"
      ],
      "execution_count": null,
      "outputs": [
        {
          "output_type": "stream",
          "text": [
            "   predicted  Actual\n",
            "0  88.672009      95\n",
            "1  29.018054      30\n",
            "2  69.428798      76\n",
            "3  39.601820      35\n",
            "4  13.623485      17\n",
            "5  46.336944      41\n",
            "6  82.899045      81\n"
          ],
          "name": "stdout"
        }
      ]
    },
    {
      "cell_type": "markdown",
      "metadata": {
        "id": "ShTGNK7tOAXz"
      },
      "source": [
        "## Evaluate the model using Metircs Mean Absolute error and Mean Squared error"
      ]
    },
    {
      "cell_type": "code",
      "metadata": {
        "colab": {
          "base_uri": "https://localhost:8080/"
        },
        "id": "CF80bH_jEZMi",
        "outputId": "975c99ee-346a-43c6-e802-0a0b4feda272"
      },
      "source": [
        "from sklearn import metrics\n",
        "print(\"Mean Squared error :\",metrics.mean_squared_error(y_test,y_pred))"
      ],
      "execution_count": null,
      "outputs": [
        {
          "output_type": "stream",
          "text": [
            "Mean Squared error : 21.265048761808725\n"
          ],
          "name": "stdout"
        }
      ]
    },
    {
      "cell_type": "markdown",
      "metadata": {
        "id": "uSkmmgJePjrR"
      },
      "source": [
        "## What will be predicted score if a student studies for 9.25 hrs/ day?"
      ]
    },
    {
      "cell_type": "code",
      "metadata": {
        "colab": {
          "base_uri": "https://localhost:8080/"
        },
        "id": "CqrYHPjZPW_n",
        "outputId": "273739fc-14d1-4485-b0ef-d0ed17fc10b2"
      },
      "source": [
        "pred = coef*9.25+intercept\n",
        "print(\"Predited Score if student studies for 9.25 Hrs : \",pred)"
      ],
      "execution_count": null,
      "outputs": [
        {
          "output_type": "stream",
          "text": [
            "Predited Score if student studies for 9.25 Hrs :  92.03957065835682\n"
          ],
          "name": "stdout"
        }
      ]
    },
    {
      "cell_type": "markdown",
      "metadata": {
        "id": "iUiT1zi-OKpA"
      },
      "source": [
        "## Plot the regression line \n",
        "## 'x'- Ploted for x = 9.25 Hours and y = 92.03 (Score)"
      ]
    },
    {
      "cell_type": "code",
      "metadata": {
        "colab": {
          "base_uri": "https://localhost:8080/",
          "height": 497
        },
        "id": "CamTkok3FmI5",
        "outputId": "a862206f-165b-436b-a406-fa595a70d447"
      },
      "source": [
        "plt.figure(figsize=(8,8))\n",
        "plt.grid()\n",
        "plt.scatter(x,y)\n",
        "plt.plot(X_test,y_pred,color = \"k\")\n",
        "plt.plot(9.25,pred,color='r',marker = \"x\")\n",
        "plt.xlabel(\"Hours\")\n",
        "plt.ylabel(\"Scores\")\n",
        "plt.show()\n"
      ],
      "execution_count": null,
      "outputs": [
        {
          "output_type": "display_data",
          "data": {
            "image/png": "[encoded data removed]",
            "text/plain": [
              "<Figure size 576x576 with 1 Axes>"
            ]
          },
          "metadata": {
            "tags": [],
            "needs_background": "light"
          }
        }
      ]
    },
    {
      "cell_type": "code",
      "metadata": {
        "id": "4NAXRruQRXT4"
      },
      "source": [
        ""
      ],
      "execution_count": null,
      "outputs": []
    }
  ]
}